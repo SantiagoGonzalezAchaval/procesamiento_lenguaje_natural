{
 "cells": [
  {
   "cell_type": "code",
   "execution_count": 1,
   "metadata": {
    "id": "kCED1hh-Ioyf"
   },
   "outputs": [
    {
     "name": "stderr",
     "output_type": "stream",
     "text": [
      "c:\\Users\\santi\\AppData\\Local\\Programs\\Python\\Python311\\Lib\\site-packages\\tqdm\\auto.py:21: TqdmWarning: IProgress not found. Please update jupyter and ipywidgets. See https://ipywidgets.readthedocs.io/en/stable/user_install.html\n",
      "  from .autonotebook import tqdm as notebook_tqdm\n",
      "[nltk_data] Downloading package punkt to\n",
      "[nltk_data]     C:\\Users\\santi\\AppData\\Roaming\\nltk_data...\n",
      "[nltk_data]   Package punkt is already up-to-date!\n",
      "[nltk_data] Downloading package wordnet to\n",
      "[nltk_data]     C:\\Users\\santi\\AppData\\Roaming\\nltk_data...\n",
      "[nltk_data]   Package wordnet is already up-to-date!\n",
      "[nltk_data] Downloading package omw-1.4 to\n",
      "[nltk_data]     C:\\Users\\santi\\AppData\\Roaming\\nltk_data...\n",
      "[nltk_data]   Package omw-1.4 is already up-to-date!\n"
     ]
    },
    {
     "data": {
      "text/plain": [
       "True"
      ]
     },
     "execution_count": 1,
     "metadata": {},
     "output_type": "execute_result"
    }
   ],
   "source": [
    "import json\n",
    "import string\n",
    "import random\n",
    "import re # Regular Expressions (regex)\n",
    "import urllib.request\n",
    "\n",
    "import numpy as np\n",
    "\n",
    "# Para leer y parsear el texto en HTML de wikipedia\n",
    "import bs4 as bs\n",
    "\n",
    "import nltk\n",
    "from nltk.stem import WordNetLemmatizer\n",
    "\n",
    "from sklearn.feature_extraction.text import TfidfVectorizer\n",
    "from sklearn.metrics.pairwise import cosine_similarity\n",
    "\n",
    "import sys\n",
    "import gradio as gr\n",
    "\n",
    "# Descargar el diccionario\n",
    "nltk.download(\"punkt\")\n",
    "nltk.download(\"wordnet\")\n",
    "nltk.download('omw-1.4')"
   ]
  },
  {
   "cell_type": "markdown",
   "metadata": {
    "id": "DMOa4JPSCJ29"
   },
   "source": [
    "### Datos\n",
    "Se consumirán los datos del artículo de wikipedia sobre el futbol en ingles."
   ]
  },
  {
   "cell_type": "code",
   "execution_count": 2,
   "metadata": {
    "id": "RIO7b8GjAC17"
   },
   "outputs": [],
   "source": [
    "raw_html = urllib.request.urlopen('https://en.wikipedia.org/wiki/History_of_association_football')\n",
    "raw_html = raw_html.read()\n",
    "\n",
    "# Parsear artículo, 'lxml' es el parser a utilizar\n",
    "article_html = bs.BeautifulSoup(raw_html, 'lxml')\n",
    "\n",
    "# Encontrar todos los párrafos del HTML (bajo el tag <p>)\n",
    "# y tenerlos disponible como lista\n",
    "article_paragraphs = article_html.find_all('p')\n",
    "\n",
    "article_text = ''\n",
    "\n",
    "for para in article_paragraphs:\n",
    "    article_text += para.text\n",
    "\n",
    "article_text = article_text.lower()"
   ]
  },
  {
   "cell_type": "code",
   "execution_count": 3,
   "metadata": {
    "id": "pUH30a1_rOkS"
   },
   "outputs": [
    {
     "data": {
      "text/plain": [
       "'\\nthe history of association football, more commonly known as football or soccer, stretches back at least to the medieval times.[1][2][3] some predecessors of football may date back to ancient greece and rome, and similar games were played in ancient china and japan.[4] the history of football in britain dates at least to the eighth century ce.[5]\\nthe development of association football has its origins in medieval ball games and english public school games. the modern game of association football originated in the mid-nineteenth century by the efforts of english football clubs to standardize the varying sets of football rules, culminating in the formation of the football association (the fa) in london, england, in 1863, and their issuing of the laws of the game in the same year.[6][7] the \"laws of the game\" were later trusted to the international football association board (ifab) and then adopted by the international association football federation (fifa). this set of rules drafted by the fa allowed clubs to play each other without dispute, and banned a number of contentious practices, notably both hacking and handling of the ball (except by goalkeepers) during open play. after the fifth meeting of the association, a schism emerged between association football and the football played by the rules of the rugby school, which later became rugby football.\\nbesides its dedicated competitions, football has also been an olympic sport since the second modern summer olympic games in paris, france, in 1900.[8]\\nduring the early-mid nineteenth century, different sets of rules for football began to be drawn up in schools, universities, and clubs.  the first such set of rules to be published was that of rugby school in 1845.\\n\\naccording to n. l. jackson, in the university of cambridge in 1846 \"two old shrewsbury boys, messrs h. de winton and j. c. thring, persuaded some old etonians to join them and formed a club. matches were few and far between, but some were played on parker\\'s piece. unfortunately, the game was not popular at the varsity then, and the club did not last long\".[9] according to thring\\'s own account, written in 1861:[10] [i]n 1846, when an attempt was made to introduce a common game and form a really respectable club, at cambridge, the rugby game was found to be the great obstacle to the combination of eton, winchester, and shrewsbury men in forming a football club.this was among the first of several known attempts to formulate a set of \"compromise\" rules of football at cambridge between alumni of different schools. in his history of the football association, geoffrey green describes it as \"the first positive step to create an identity of views and a common code of laws [of football] acceptable to as many as possible,\" and laments the absence of a plaque \"to commemorate this historic moment\".[11] these rules underwent several revisions, and in 1848 a new set of rules was created for use at the university of cambridge, drawing from features present in the different public school games.[12][13] a later set of \"cambridge rules\" from 1856 survives in a copy at shrewsbury school.[14][15]\\nanother set of rules was set by eton college in 1847.\\nduring the 1850s, many clubs unconnected to schools or universities were formed throughout the english-speaking world, to play various forms of football. some came up with their own distinct codes of rules, most notably the sheffield rules, created by the sheffield football club, formed in 1857, which were adopted by the newly formed sheffield football association in 1867.\\nduring the early 1860s, there were increasing attempts in england to unify and reconcile the various football games that were played in the public schools as well in the industrial north under the sheffield rules. in 1862, j. c. thring, who had been one of the driving forces behind the original cambridge rules, was a master at uppingham school and issued his own rules of what he called \"the simplest game\" (aka the uppingham rules). in early october 1863, a new set of \"cambridge rules\" was drawn up by a seven-member committee representing former pupils of eton, harrow, shrewsbury, rugby, marlborough and westminster.\\nebenezer cobb morley, a solicitor from hull, wrote to bell\\'s life newspaper in 1863, proposing a governing body for football. morley was to become the fa\\'s first secretary (1863–66) and its second president (1867–74), but is particularly remembered for drafting the first laws of the game at his home in barnes, london, that are today played the world over. for this, he is considered not just the father of the football association, but of association football itself.[6]\\npublic schools such as charterhouse and westminster school were influential in forming the new rules, at both schools the pupils\\' surroundings meant they were confined to playing their football in the cloisters, making the rough and tumble of the handling game that was developing at other schools such as rugby impossible, and necessitating a different code of rules. forest school was also influential in formulating the new rules, being present at the fifth meeting of the f.a. on 1 december 1863, and having several members at the influential forest club.[16] during the formulation of the rules of association football in the 1860s representatives of charterhouse and westminster pushed for a passing game, in particular rules that allowed forward passing (\"passing on\"). other schools (in particular eton college, shrewsbury school and harrow) favoured a dribbling game with a tight off-side rule. it is claimed that stoke ramblers were formed in 1863 when former pupils of charterhouse school formed a football club while apprentices at the north staffordshire railway works in stoke-on-trent.[17] by 1867 the football association had chosen in favour of the charterhouse and westminster game and adopted a \"loose\" off-side rule that permitted forward passing.[18]\\non the evening of 26 october 1863, representatives of several football clubs in the greater london area met at the freemasons\\' tavern on long acre in covent garden. this was the first meeting of the football association (fa). it was the world\\'s first official football body and for this reason is not preceded with the word english. the first meeting resulted in the issuing of a request for representatives of the public schools to join the association. with the exception of thring at uppingham, most schools declined. in total, six meetings of the fa were held between october and december 1863. committee member j. f. alcock, said: \"the cambridge rules appear to be the most desirable for the association to adopt.\"\\nafter the third meeting, a draft set of rules were published by the fa. however, at the beginning of the fourth meeting, attention was drawn to the recently published cambridge rules of 1863.[19] the cambridge rules differed from the draft fa rules in two significant areas; namely running with (carrying) the ball and hacking (kicking opposing players in the shins). the two contentious fa rules were as follows:\\nix. a player shall be entitled to run with the ball towards his adversaries\\' goal if he makes a fair catch, or catches the ball on the first bound; but in case of a fair catch, if he makes his mark he shall not run.x. if any player shall run with the ball towards his adversaries\\' goal, any player on the opposite side shall be at liberty to charge, hold, trip or hack him, or to wrest the ball from him, but no player shall be held and hacked at the same time.at the fifth meeting a motion was proposed that these two rules be removed from the fa rules. most of the delegates supported this suggestion but f. w. campbell, the representative from blackheath and the first fa treasurer objected strongly. he said, \"hacking is the true football\". the motion was carried nonetheless and – at the final meeting – campbell withdrew his club from the fa. after the final meeting on 8 december the fa published the \"laws of football\", the first comprehensive set of rules for the game later known as association football. the game also came to be called \"soccer\" as a shortening of \"association\" around the same time as rugby football, colloquially referred to as \"rugger\", was developing as the main ball carrying version of english football, and \"soccer\" remains a common descriptor in countries with other prominent football codes today.[citation needed]\\nthese first fa laws contained elements that are no longer part of association football, but which are still recognisable in other games (e.g. rugby union and australian rules football): for instance, if a player first touched the ball behind the opponents\\' goal line, his side was entitled to a \"free kick\" at goal, from that point and fifteen yards [approximately 14 metres] in front of the goal line; and a player could make a catch and claim a \"mark\", which entitled him to a free kick from or behind that point (see laws 7 and 8 respectively).\\nthe laws of the game agreed on by the fa members stipulated a maximum length and breadth for the pitch, the procedure for kicking off, and the definition of terms, including goal, throw in, and offside. passing the ball by hand was still permitted provided the ball was caught \"fairly or on the first bounce\". despite the specifications of footwear having no \"tough nails, iron plates and gutta percha\" there were no specific rules on the number of players, penalties, foul play or the shape of the ball; captains of the participating teams were expected to agree on these things prior to the match.\\nthe laws laid down by the fa had an immediate effect, with sheffield f.c. and nottingham (now notts county) playing an annual fixture on the fa code, among others. as more teams joined the code in the 1860s, the sport veered away from its origins in public schools and came to be played with round balls and by teams that had settled on 11 players each. the rule eliminating passing of the ball forwards by making all players in front of the ball \\'offside\\' (much like in rugby today) was dropped. a sheffield against london game in 1866 had allowed the fa to observe how the rules were affecting the game; subsequently handling of the ball was abolished except for one player on each team, the goalkeeper. a red tape was added between the two goalposts to indicate the top of the goal, and a national competition was proposed.  1867 saw the introduction of the first competition and oldest existing trophy in football, the youdan cup.\\non 20 july 1871, c. w. alcock, a gentleman from sunderland and a former pupil of harrow school proposed that \"a challenge cup should be established in connection with the [football] association\",[20] the idea that gave birth to the competition. at the first fa cup in 1872, wanderers and royal engineers met in the final in front of 2,000 paying spectators.[21] despite the royal engineers being the heavy favourites, one of their players sustained a broken collar bone early on and since substitutions had not yet been introduced, the engineers played a man down for the rest of the match which they eventually lost 1–0.[22]\\nthe success of the inaugural fa cup lead many english clubs to apply to take part. inclusion required playing by the newly instituted fa code, which led to the quick spread of a universal set of rules. these rules are the basis of which all association football rules today stem.[23]\\nlater competitions saw the \\'gentleman\\' or southerners dominate with old etonians, wanderers, royal engineers and oxford university who amongst them took 19 titles.[24] queens park withdrew in the semi-finals of the 1873 cup (which due to the format being played that year meant that all the challengers to wanderers\\' trophy played a competition for the right to throw down the gauntlet and play the holders, hence the full name fa challenge cup) because they had trouble raising travel expenses to pay for the constant trips to england, this directly led to the formation of the scottish fa. however, despite this, queens park continued to participate in the fa cup, reaching the final twice, before the scottish fa banned scottish clubs from entering in 1887.[24]\\nin 1872, alcock purchased a trophy for the football association cup for £20.[25] that year, fifteen clubs entered the competition. queen\\'s park reached the semi-finals without playing due to withdrawals, but then after a goalless draw with wanderers, were forced to withdraw as before the advent of penalties and extra time, they could not afford to come back to london for the replay. wanderers won the cup outright in 1878 after what remains to this day one of only two hat tricks of wins ever. however, they returned the cup to the fa in order for the competition to continue, on the condition that no other club could win the cup outright ever again.\\nin 1888, william mcgregor a gentleman from perthshire and a director of aston villa f.c was the main force between meetings held in london and manchester involving 12 football clubs, with an eye to league competition. these 12 clubs would later become the football league\\'s 12 founder members. the meetings were held in london, the main concern was that an early exit in the knockout format of the fa cup could leave clubs with no matches for almost a year, and if that happened, not only could they suffer heavy financial losses, but fans often didn\\'t stick around for that long without a game, and instead went to other teams. matters were finalised on 17 april in manchester.\\nmcgregor had voted against the name the football league, as he was concerned that it would be associated with the irish land league.[26] but this name still won by a majority vote and was selected. the competition guaranteed fixtures and members for all of its member clubs. the clubs were split equally among north and midlands teams. it excluded southern teams, who were still strictly amateur.\\na rival english league called the football alliance operated from 1889 to 1892. in 1892 it was decided to formally merge the two leagues, and so the football league second division was formed, consisting mostly of football alliance clubs. the existing league clubs, plus three of the strongest alliance clubs, comprised the football league first division.\\nthe first international game was played in scotland on 30 november 1872. charles alcock, who was elected to secretary of the fa at the age of 28, devised the idea of an international competition, inaugurating an annual scotland-england fixture.  in 1870 and 1871 he placed advertisements in edinburgh and glasgow newspapers, requesting players for an international between the two countries.  the only response that he received stated: \"devotees of the \"association\" rules will find no foemen worthy of their steel in scotland\"[27] for this reason the 1870 and 1871 matches were composed entirely of scots living in england. notably, however, smith of the queen\\'s park football club took part in most of the 1870 and 1871 international matches. as early as 1870, alcock was adamant that these matches were open to every scotsman [alcock\\'s italics] whether his lines were cast north or south of the tweed and that if in the face of the invitations publicly given through the columns of leading journals of scotland the representative eleven consisted chiefly of anglo-scotians ... the fault lies on the heads of the players of the north, not on the management who sought the services of all alike impartially. to call the team london scotchmen contributes nothing. the match was, as announced, to all intents and purposes between england and scotland\".[28]\\nin 1872 the challenge was eventually taken up by queens park fc.[29] the first international currently recognised as official by fifa (which took place on 30 november 1872, glasgow, scotland) ended in a goalless draw between the two sides and thus, one of the most bitterly disputed fixtures in footballing history was born. the 2nd game between the two sides, on 8 march 1873, ended 4–2 in favour of england, the scots then went on to win the next game 2–1.  the fourth game ended in a 2–2 draw after which the scots enjoyed a 3-game winning streak.\\nthe first non-european international was contested on 28 november 1885, at newark, new jersey, between the us and canada, the canadians winning 1–0.[citation needed]\\nwhen football was gaining popularity during the 1870s and 1880s professionals were banned in england and scotland. then in the 1880s, soon after wanderers disbanded, in the north of england, teams started hiring players known as \\'professors of football\\', who were often professionals from scotland (who were referred to at the time as the \\'scotch professors\\'). this was the first time a professional got into football. the clubs in working class areas, especially in northern england and scotland, wanted professional football in order to afford to play football besides working. several clubs were accused of employing professionals.\\nthe northern clubs made of lower class paid players started to gain momentum over the amateur \\'gentleman southerners\\'. the first northern club to reach the fa cup final was blackburn rovers in 1882, where they lost to old etonians, who were the last amateur team to win the trophy.\\nduring the summer of 1885, there was pressure put on the football association to accept professionalism in english football, culminating in a special meeting on 20 july, after which it was announced that it was \"in the interests of association football, to legalise the employment of professional football players, but only under certain restrictions\". clubs were allowed to pay players provided that they had either been born or had lived for two years within a six-mile radius of the ground. there were also rules preventing professional players from playing for more than one club in a season, without obtaining special permission, and all professional players had to be registered with the f.a.[30]\\nthough english clubs employed professionals, the scottish football association continued to forbid the practice. consequently, many scottish players migrated southward. at first the fa put residential restrictions in place to prevent this, but these were abandoned by 1889.[31] in the inaugural season of the football league (1888–89), champions preston north end fielded ten scottish professionals.[32]\\none of the teams to benefit from the move of scottish players to england, who were nicknamed the scotch professors, was sunderland a.f.c. the club went professional in 1885, and the club recruited a number of scotsmen the same year, their first internationally capped players.[33] founder james allan left sunderland in 1888 because of his dislike for the \"professionalism\" that had been creeping into the club, and subsequently formed sunderland albion.[34]\\nthe wealthy miner samuel tyzack, who alongside and shipbuilder robert turnbull funded the now professional \"team of all talents,\" often pretended to be a priest while scouting for players in scotland, as sunderland\\'s recruitment policy in scotland enraged many scottish fans. in fact, the whole sunderland lineup in the 1895 world championship was made from entirely scottish players.[35] on 5 april 1890, the football league\\'s founder, william mcgregor, labelled sunderland as \"the team of all talents\" stating that they had \"a talented man in every position\".[36]\\nanother team to benefit from the scotch professors was preston north end, the first english team to win the championship and cup \"double\", which did so with a majority of their team being made up of scottish players.[37][38]\\nthe scottish fa lifted its ban on professionalism in 1893, whereupon 560 players were registered as professionals.[39]\\nearly english women\\'s teams, such as the dick, kerr\\'s ladies from preston, were so popular that their matches raised money for charities. the first recorded women\\'s football match, on 23 march 1895, was held in england between a northern and southern team.  the fundraising matches continued, in spite of objections. a maximum wage was placed on players, players challenged this and came close to strike action in 1909, but it was not to be for another fifty years before the maximum wage was abolished.  in 1921, women were banned from playing on fa league grounds. fa history states that this ban \"effectively destroyed the game\" in england for the next 40 years.[40]\\nin 1934, the swedish club malmö ff was relegated from the top division after it had been discovered that they paid their players, something that was not allowed in swedish football at the time.\\nbetween 1915 and 1919 competitive association football was suspended in england. many footballers signed up to fight in the war and as a result many teams were depleted, and fielded guest players instead. the football league and fa cup were suspended and in their place regional league competitions were set up; appearances in these tournaments do not count in players\\' official records.\\nthe oldest club in continental europe could be the swiss club lausanne football and cricket club, founded 1860.[41] football was introduced in a belgian school in melle (near ghent) in 1863.[42] in the netherlands the first football match was played in 1865 in enschede. this was followed by the founding of koninklijke hfc by pim mulier in 1879. the koninklijke hfc was the first dutch football club. ten years later, in 1889, the royal dutch football association (the knvb) was founded. association football was introduced in the danish club, kjøbenhavns boldklub (kb) by english residents,[43] in swiss club fc st. gallen in 1879 and in belgium royal antwerp fc in 1880. this makes kb, st. gallen, koninklijke hfc and royal antwerp fc the oldest still existing football clubs on continental europe. however, royal antwerp fc (nickname \"the great old\") is the only one that never merged with or into another club.\\nthe danish football association was founded in 1889.  italian football was played in regional groups from its foundation in 1898 until 1929 when the serie a was organised into a national league by the italian football federation.  la liga, spain\\'s national league, had its first season in 1928, with its participants based on the previous winners of the copa del rey, which began in 1902.  the modern german national league, the bundesliga was late in the foundation, especially for european countries, given it wasn\\'t founded until 1963. the german football association was founded as early as 1900 with the first german football champions being leipzig in 1903. however, prior to the formation of the bundesliga, german football was played at an amateur level in a large number of regional leagues.\\nthe first recorded football game in imperial russia occurred in odessa when some british sailors played a game amongst themselves.[44]\\nthe first organised game of football in portugal took place in 1875 in camacha, madeira. organised by the madeira born harry hinton.\\nthe oldest surviving team in portugal is académica, which was founded in 1876.\\non 31 march 1914, the 3 regional associations that existed in portugal (lisbon, portalegre and porto), merged to create a national association called \"a união portuguesa de futebol\" which is the ancestor of the current national association \"federação portuguesa de futebol\" which was formed on 28 may 1926.\\nthe first recorded football match in argentina was played in 1867 by british railway workers at the buenos aires cricket club ground.[45] the game was a blend of both association and rugby footballs, allowing the use of hands.[46] the first association football team in south america, buenos aires football club was created in argentina that same year. the first country\\'s league was the \"association of argentine football\" (aaf), founded in 1891 by f.l. wooley. this league organized the first ever championship to take place in 1891,[47] making argentina\\'s the oldest association football league outside mainland great britain[48] although it only lasted for one season. its successor, the argentine football association was founded by scottish schoolteacher alexander watson hutton in 1893, and remaining nowadays.[49]\\nin the 1870s an expatriate named john miller who worked on the railway construction project in são paulo together with some 3000 other immigrant families from the british isles in the last decades of the 19th century, decided to send his young boy charles william miller to england for his education. in 1884 charles aged 10 was sent to bannister\\'s school in southampton. charles was a natural footballer who quickly picked up the arts of the game. the football association was being formed at the time. eton, rugby, charterhouse and other colleges all had developed their own rules to the game. as an accomplished winger and striker, charles held school honours that were to gain him entry first into the southampton club team and then into the county team of hampshire.\\nin 1892 a couple of years before his return to brazil, miller was invited to play a game for the corinthians, a team formed of players invited from public schools and universities.\\non his return, miller brought some association football equipment and a rules book with him. he then went on to develop the new rules of the game amongst the community in são paulo. in 1888, six years before his return, the first sports club was founded in the city, são paulo athletic club. são paulo athletic club won the first three years of championships. miller\\'s skills were far and above his colleagues at this stage. he was given the honour of contributing his name to a move involving a deft flick of the ball with the heel \"chaleira\".\\ncharles miller kept a strong bond with english association football throughout his life. teams from southampton and corinthians club came over to brazil and played against são paulo athletic club and other teams in são paulo. one on occasion in 1910 a new local team was about to be formed after a tour of the corinthians team to brazil and charles was asked to suggest a name for the team. he suggested they should call themselves after corinthians.\\nduring the first years of the 20th century, several british clubs toured on south america, mainly argentina, uruguay and brazil. southampton was the first foreign club to tour the continent in 1904, followed by nottingham forest one year later. those tours contributed to the spread and development of football in the region, with some matches (such as the alumni v south africa) being attended by more than 10,000 spectators.[50] those british teams trips lasted until 1929, with the chelsea tour.[51]\\nthe argentine primera división is the oldest league in south america, being first held in 1891.[52] moreover, argentina became the first country outside the united kingdom to establish a football league.[53] the uruguayan football association was also established in 1900. both associations organised together the first rioplatense club competitions in the region, starting with the tie cup in 1900.[54]\\nin 1988, são paulo a.c. celebrated its centenary and the english corinthian f.c. (that had first toured on brazil in 1910)[55] went across again to play them at morumbi stadium. the end of the tour was against the local corinthians paulista team (which had taken its name from the english side) with former stars sócrates and rivelino amongst its players. this game was played at pacaembu stadium in são paulo and true to corinthian principles of good clean association football the score was 1 to 0 in favour of the locals when as agreed socrates changed shirts to play alongside the english amate. this did not affect the score unfortunately although a largely packed stadium was cheering on for a drawn result.\\nthe brazilian football confederation was founded in 1914, and the current format for the campeonato brasileiro was established in 1971.\\nthe first association football club in the united states was the oneida football club of boston, massachusetts, founded in 1862. it is often said that this was the first club to play association football outside britain. however, oneidas were formed before the english football association (fa); it is not known what rules they used[56] and the club wound up within the space of a few years. according to encyclopædia britannica, the club is often credited with inventing the \"boston game\", which both allowed players to kick a round ball along the ground, and to pick it up and run with it.\\nthe first u.s. match known to have been inspired by fa rules was a game between princeton and rutgers in 1869, although the game included features such as extremely physical tackling and teams of 20 each. other colleges emulated this development, but all of these were converted to rugby-oriented rules from soccer-oriented rules by the mid-1870s on, and they would soon become famous as early bastions of american football. (for more details see: history of american football and 1869 college football season.)\\nearly football leagues in the u.s. mostly used the name football leagues: for example, the american football association (founded in 1884), the american amateur football association (1893), the american league of professional football (1894), the national association foot ball league (1895), and the southern new england football league (1914). however, the word \"soccer\" was beginning to catch on, and the st. louis soccer league was a significant regional competition between 1907 and 1939. what is now the united states soccer federation was originally the u.s. football association, formed in 1913 by the merger of the american football association and the american amateur football association. the governing body of the sport in the u.s. did not have the word soccer in its name until 1945, when it became the u.s. soccer football association. it did not drop the word football from its name until 1974, when it became the u.s. soccer federation.\\ntwo further football leagues were started in 1967, the united soccer association and the national professional soccer league. these merged to form the north american soccer league in 1968, which survived until 1984. the nasl also ran an indoor league in the later years.\\nindoor soccer was a great success in the 1980s to the \\'90s, in part due to the input of the north american soccer league. when the nasl folded, other leagues, including the major indoor soccer league filled in to meet the demand. a new misl exists today with seven teams operating in the 2013–2014 season.[57] however, it is unrelated to the original misl. the highest level of association football in the united states is major league soccer, formed as a result of the u.s. hosting the 1994 fifa world cup.\\nthe need for a single body to oversee the worldwide game became apparent at the beginning of the 20th century with the increasing popularity of international fixtures. the english football association had chaired many discussions on setting up an international body but was perceived as making no progress. it fell to seven other european countries to band together to form this association. fifa (fédération internationale de football association) was founded in paris on 21 may 1904 – the french name and acronym persist to this day, even outside french-speaking countries. its first president was robert guérin.\\nfifa presided over its first international competition in 1906, however, it met with little approval or success. this, in combination with economic factors, led to the swift replacement of guérin with daniel burley woolfall from england, which had become a member association by that point. the next tournament staged the football competition for the 1908 olympics in london was more successful, despite the presence of professional footballers, contrary to the founding principles of fifa.\\nmembership of fifa expanded beyond europe with the application of south africa in 1909, argentina in 1912 and the united states in 1913.\\nfifa however floundered during world war i with many players sent off to war and the possibility of travel for international fixtures severely limited. post-war, following the death of woolfall, the organisation fell into the hands of alexander bartholomew.[citation needed] the organisation had a new leader though after bartholomew\\'s death in 1919. it was saved from extinction but at the cost of the withdrawal of the home nations, who cited an unwillingness to participate in international competitions with their recent world war enemies.\\nin 1946 the four british nations returned. on 10 may 1947 a \\'match of the century\\' between great britain and \\'rest of europe xi\\' was played at hampden park in glasgow before 135,000 spectators – britain won 6–1. the proceeds from the match, coming to £35,000, were given to fifa, to help re-launch it after world war two. this was followed by fifa\\'s first post-war world cup in 1950, held in brazil. fifa, meanwhile, continued to expand so that by the time of its fiftieth anniversary it had 84 members.\\nthe first men\\'s football world cup was played in uruguay in 1930. in the first championship match between argentina and uruguay, the teams could not decide on a ball so they used argentina\\'s ball in the first half and uruguay\\'s in the second. many countries did not enter, but most of those that did came from the americas. by 1950 however, european teams took an interest, and the competition blossomed into the world\\'s biggest footballing and sporting event.\\nthe south american copa américa was first contested in 1916 and preceded the world cup. decades later, other continental championships emerged – the afc asian cup (1956), the african cup of nations (1957), the european championship (1960), north america\\'s gold cup (1991) oceania\\'s ofc nations cup (1996) and uefa nations league (2018).\\nbrazil is the most successful team in the world cup, having won five times. the next most successful teams are italy and germany (three as west germany) with four titles each, having won their latest honours in 2006 and 2014 respectively, followed by argentina with three titles (last in 2022). uruguay (last in 1950) and france (last in 2018) have two titles each.\\nthe fifa women\\'s world cup was inaugurated with the 1991 fifa women\\'s world cup, hosted in china, with 12 teams sent to represent their countries.\\nover 90,185 spectators attended the 1999 fifa women\\'s world cup and nearly 1 billion viewers from 70 countries tuned in. by the 2003 fifa women\\'s world cup, 16 teams competed in the championship finals. of the eight tournaments held to date (as of 2019), the united states (1991, 1999, 2015, 2019) is the most successful team with four titles; germany (2003, 2007) have won the championship twice, and norway (1995) and japan (2011) have each won once. women\\'s confederations are the same as men\\'s: oceania (ofc), european (uefa), north, central america and caribbean (concacaf), south american (conmebol), asian (afc) and african (caf).\\n'"
      ]
     },
     "execution_count": 3,
     "metadata": {},
     "output_type": "execute_result"
    }
   ],
   "source": [
    "# Demos un vistazo\n",
    "article_text"
   ]
  },
  {
   "cell_type": "code",
   "execution_count": 4,
   "metadata": {
    "id": "BtGLJjt6rQhK"
   },
   "outputs": [
    {
     "name": "stdout",
     "output_type": "stream",
     "text": [
      "Cantidad de caracteres en la nota: 34961\n"
     ]
    }
   ],
   "source": [
    "print(\"Cantidad de caracteres en la nota:\", len(article_text))"
   ]
  },
  {
   "cell_type": "markdown",
   "metadata": {
    "id": "FVHxBRNzCMOS"
   },
   "source": [
    "### 2 - Preprocesamiento\n",
    "- Remover caracteres especiales\n",
    "- Quitar espacios o saltos"
   ]
  },
  {
   "cell_type": "code",
   "execution_count": 5,
   "metadata": {
    "id": "HnEUTD1Erl1N"
   },
   "outputs": [],
   "source": [
    "# Repaso de regex:\n",
    "# https://docs.python.org/3/library/re.html\n",
    "\n",
    "# Para practicar regex:\n",
    "# https://regex101.com/\n",
    "\n",
    "# el inicio con 'r' antes de cada string indica que se interprete como raw string\n",
    "# '\\n' es interpretado por Python como salto de linea\n",
    "# r'\\n' es interpretado por Python como el string formado por dos caracteres: \n",
    "#  backslash y n\n",
    "\n",
    "# substituir con regex con espacio vacío:\n",
    "text = re.sub(r'\\[[0-9]*\\]', ' ', article_text) # substituir los números entre corchetes\n",
    "# (notar que los corchetes son interpretados literalmente por los backlsash)\n",
    "text = re.sub(r'\\s+', ' ', text) # substituir más de un caracter de espacio, salto de línea o tabulación\n",
    "\n",
    "# probar en regex101 con los patrones anteriores:\n",
    "# 'Hola [1], [], [ estoy bien   [123]. [12sss]. OK!   .'"
   ]
  },
  {
   "cell_type": "code",
   "execution_count": 6,
   "metadata": {
    "id": "g7ycrAMYrn66"
   },
   "outputs": [
    {
     "data": {
      "text/plain": [
       "' the history of association football, more commonly known as football or soccer, stretches back at least to the medieval times. some predecessors of football may date back to ancient greece and rome, and similar games were played in ancient china and japan. the history of football in britain dates at least to the eighth century ce. the development of association football has its origins in medieval ball games and english public school games. the modern game of association football originated in the mid-nineteenth century by the efforts of english football clubs to standardize the varying sets of football rules, culminating in the formation of the football association (the fa) in london, england, in 1863, and their issuing of the laws of the game in the same year. the \"laws of the game\" were later trusted to the international football association board (ifab) and then adopted by the international association football federation (fifa). this set of rules drafted by the fa allowed clubs to play each other without dispute, and banned a number of contentious practices, notably both hacking and handling of the ball (except by goalkeepers) during open play. after the fifth meeting of the association, a schism emerged between association football and the football played by the rules of the rugby school, which later became rugby football. besides its dedicated competitions, football has also been an olympic sport since the second modern summer olympic games in paris, france, in 1900. during the early-mid nineteenth century, different sets of rules for football began to be drawn up in schools, universities, and clubs. the first such set of rules to be published was that of rugby school in 1845. according to n. l. jackson, in the university of cambridge in 1846 \"two old shrewsbury boys, messrs h. de winton and j. c. thring, persuaded some old etonians to join them and formed a club. matches were few and far between, but some were played on parker\\'s piece. unfortunately, the game was not popular at the varsity then, and the club did not last long\". according to thring\\'s own account, written in 1861: [i]n 1846, when an attempt was made to introduce a common game and form a really respectable club, at cambridge, the rugby game was found to be the great obstacle to the combination of eton, winchester, and shrewsbury men in forming a football club.this was among the first of several known attempts to formulate a set of \"compromise\" rules of football at cambridge between alumni of different schools. in his history of the football association, geoffrey green describes it as \"the first positive step to create an identity of views and a common code of laws [of football] acceptable to as many as possible,\" and laments the absence of a plaque \"to commemorate this historic moment\". these rules underwent several revisions, and in 1848 a new set of rules was created for use at the university of cambridge, drawing from features present in the different public school games. a later set of \"cambridge rules\" from 1856 survives in a copy at shrewsbury school. another set of rules was set by eton college in 1847. during the 1850s, many clubs unconnected to schools or universities were formed throughout the english-speaking world, to play various forms of football. some came up with their own distinct codes of rules, most notably the sheffield rules, created by the sheffield football club, formed in 1857, which were adopted by the newly formed sheffield football association in 1867. during the early 1860s, there were increasing attempts in england to unify and reconcile the various football games that were played in the public schools as well in the industrial north under the sheffield rules. in 1862, j. c. thring, who had been one of the driving forces behind the original cambridge rules, was a master at uppingham school and issued his own rules of what he called \"the simplest game\" (aka the uppingham rules). in early october 1863, a new set of \"cambridge rules\" was drawn up by a seven-member committee representing former pupils of eton, harrow, shrewsbury, rugby, marlborough and westminster. ebenezer cobb morley, a solicitor from hull, wrote to bell\\'s life newspaper in 1863, proposing a governing body for football. morley was to become the fa\\'s first secretary (1863–66) and its second president (1867–74), but is particularly remembered for drafting the first laws of the game at his home in barnes, london, that are today played the world over. for this, he is considered not just the father of the football association, but of association football itself. public schools such as charterhouse and westminster school were influential in forming the new rules, at both schools the pupils\\' surroundings meant they were confined to playing their football in the cloisters, making the rough and tumble of the handling game that was developing at other schools such as rugby impossible, and necessitating a different code of rules. forest school was also influential in formulating the new rules, being present at the fifth meeting of the f.a. on 1 december 1863, and having several members at the influential forest club. during the formulation of the rules of association football in the 1860s representatives of charterhouse and westminster pushed for a passing game, in particular rules that allowed forward passing (\"passing on\"). other schools (in particular eton college, shrewsbury school and harrow) favoured a dribbling game with a tight off-side rule. it is claimed that stoke ramblers were formed in 1863 when former pupils of charterhouse school formed a football club while apprentices at the north staffordshire railway works in stoke-on-trent. by 1867 the football association had chosen in favour of the charterhouse and westminster game and adopted a \"loose\" off-side rule that permitted forward passing. on the evening of 26 october 1863, representatives of several football clubs in the greater london area met at the freemasons\\' tavern on long acre in covent garden. this was the first meeting of the football association (fa). it was the world\\'s first official football body and for this reason is not preceded with the word english. the first meeting resulted in the issuing of a request for representatives of the public schools to join the association. with the exception of thring at uppingham, most schools declined. in total, six meetings of the fa were held between october and december 1863. committee member j. f. alcock, said: \"the cambridge rules appear to be the most desirable for the association to adopt.\" after the third meeting, a draft set of rules were published by the fa. however, at the beginning of the fourth meeting, attention was drawn to the recently published cambridge rules of 1863. the cambridge rules differed from the draft fa rules in two significant areas; namely running with (carrying) the ball and hacking (kicking opposing players in the shins). the two contentious fa rules were as follows: ix. a player shall be entitled to run with the ball towards his adversaries\\' goal if he makes a fair catch, or catches the ball on the first bound; but in case of a fair catch, if he makes his mark he shall not run.x. if any player shall run with the ball towards his adversaries\\' goal, any player on the opposite side shall be at liberty to charge, hold, trip or hack him, or to wrest the ball from him, but no player shall be held and hacked at the same time.at the fifth meeting a motion was proposed that these two rules be removed from the fa rules. most of the delegates supported this suggestion but f. w. campbell, the representative from blackheath and the first fa treasurer objected strongly. he said, \"hacking is the true football\". the motion was carried nonetheless and – at the final meeting – campbell withdrew his club from the fa. after the final meeting on 8 december the fa published the \"laws of football\", the first comprehensive set of rules for the game later known as association football. the game also came to be called \"soccer\" as a shortening of \"association\" around the same time as rugby football, colloquially referred to as \"rugger\", was developing as the main ball carrying version of english football, and \"soccer\" remains a common descriptor in countries with other prominent football codes today.[citation needed] these first fa laws contained elements that are no longer part of association football, but which are still recognisable in other games (e.g. rugby union and australian rules football): for instance, if a player first touched the ball behind the opponents\\' goal line, his side was entitled to a \"free kick\" at goal, from that point and fifteen yards [approximately 14 metres] in front of the goal line; and a player could make a catch and claim a \"mark\", which entitled him to a free kick from or behind that point (see laws 7 and 8 respectively). the laws of the game agreed on by the fa members stipulated a maximum length and breadth for the pitch, the procedure for kicking off, and the definition of terms, including goal, throw in, and offside. passing the ball by hand was still permitted provided the ball was caught \"fairly or on the first bounce\". despite the specifications of footwear having no \"tough nails, iron plates and gutta percha\" there were no specific rules on the number of players, penalties, foul play or the shape of the ball; captains of the participating teams were expected to agree on these things prior to the match. the laws laid down by the fa had an immediate effect, with sheffield f.c. and nottingham (now notts county) playing an annual fixture on the fa code, among others. as more teams joined the code in the 1860s, the sport veered away from its origins in public schools and came to be played with round balls and by teams that had settled on 11 players each. the rule eliminating passing of the ball forwards by making all players in front of the ball \\'offside\\' (much like in rugby today) was dropped. a sheffield against london game in 1866 had allowed the fa to observe how the rules were affecting the game; subsequently handling of the ball was abolished except for one player on each team, the goalkeeper. a red tape was added between the two goalposts to indicate the top of the goal, and a national competition was proposed. 1867 saw the introduction of the first competition and oldest existing trophy in football, the youdan cup. on 20 july 1871, c. w. alcock, a gentleman from sunderland and a former pupil of harrow school proposed that \"a challenge cup should be established in connection with the [football] association\", the idea that gave birth to the competition. at the first fa cup in 1872, wanderers and royal engineers met in the final in front of 2,000 paying spectators. despite the royal engineers being the heavy favourites, one of their players sustained a broken collar bone early on and since substitutions had not yet been introduced, the engineers played a man down for the rest of the match which they eventually lost 1–0. the success of the inaugural fa cup lead many english clubs to apply to take part. inclusion required playing by the newly instituted fa code, which led to the quick spread of a universal set of rules. these rules are the basis of which all association football rules today stem. later competitions saw the \\'gentleman\\' or southerners dominate with old etonians, wanderers, royal engineers and oxford university who amongst them took 19 titles. queens park withdrew in the semi-finals of the 1873 cup (which due to the format being played that year meant that all the challengers to wanderers\\' trophy played a competition for the right to throw down the gauntlet and play the holders, hence the full name fa challenge cup) because they had trouble raising travel expenses to pay for the constant trips to england, this directly led to the formation of the scottish fa. however, despite this, queens park continued to participate in the fa cup, reaching the final twice, before the scottish fa banned scottish clubs from entering in 1887. in 1872, alcock purchased a trophy for the football association cup for £20. that year, fifteen clubs entered the competition. queen\\'s park reached the semi-finals without playing due to withdrawals, but then after a goalless draw with wanderers, were forced to withdraw as before the advent of penalties and extra time, they could not afford to come back to london for the replay. wanderers won the cup outright in 1878 after what remains to this day one of only two hat tricks of wins ever. however, they returned the cup to the fa in order for the competition to continue, on the condition that no other club could win the cup outright ever again. in 1888, william mcgregor a gentleman from perthshire and a director of aston villa f.c was the main force between meetings held in london and manchester involving 12 football clubs, with an eye to league competition. these 12 clubs would later become the football league\\'s 12 founder members. the meetings were held in london, the main concern was that an early exit in the knockout format of the fa cup could leave clubs with no matches for almost a year, and if that happened, not only could they suffer heavy financial losses, but fans often didn\\'t stick around for that long without a game, and instead went to other teams. matters were finalised on 17 april in manchester. mcgregor had voted against the name the football league, as he was concerned that it would be associated with the irish land league. but this name still won by a majority vote and was selected. the competition guaranteed fixtures and members for all of its member clubs. the clubs were split equally among north and midlands teams. it excluded southern teams, who were still strictly amateur. a rival english league called the football alliance operated from 1889 to 1892. in 1892 it was decided to formally merge the two leagues, and so the football league second division was formed, consisting mostly of football alliance clubs. the existing league clubs, plus three of the strongest alliance clubs, comprised the football league first division. the first international game was played in scotland on 30 november 1872. charles alcock, who was elected to secretary of the fa at the age of 28, devised the idea of an international competition, inaugurating an annual scotland-england fixture. in 1870 and 1871 he placed advertisements in edinburgh and glasgow newspapers, requesting players for an international between the two countries. the only response that he received stated: \"devotees of the \"association\" rules will find no foemen worthy of their steel in scotland\" for this reason the 1870 and 1871 matches were composed entirely of scots living in england. notably, however, smith of the queen\\'s park football club took part in most of the 1870 and 1871 international matches. as early as 1870, alcock was adamant that these matches were open to every scotsman [alcock\\'s italics] whether his lines were cast north or south of the tweed and that if in the face of the invitations publicly given through the columns of leading journals of scotland the representative eleven consisted chiefly of anglo-scotians ... the fault lies on the heads of the players of the north, not on the management who sought the services of all alike impartially. to call the team london scotchmen contributes nothing. the match was, as announced, to all intents and purposes between england and scotland\". in 1872 the challenge was eventually taken up by queens park fc. the first international currently recognised as official by fifa (which took place on 30 november 1872, glasgow, scotland) ended in a goalless draw between the two sides and thus, one of the most bitterly disputed fixtures in footballing history was born. the 2nd game between the two sides, on 8 march 1873, ended 4–2 in favour of england, the scots then went on to win the next game 2–1. the fourth game ended in a 2–2 draw after which the scots enjoyed a 3-game winning streak. the first non-european international was contested on 28 november 1885, at newark, new jersey, between the us and canada, the canadians winning 1–0.[citation needed] when football was gaining popularity during the 1870s and 1880s professionals were banned in england and scotland. then in the 1880s, soon after wanderers disbanded, in the north of england, teams started hiring players known as \\'professors of football\\', who were often professionals from scotland (who were referred to at the time as the \\'scotch professors\\'). this was the first time a professional got into football. the clubs in working class areas, especially in northern england and scotland, wanted professional football in order to afford to play football besides working. several clubs were accused of employing professionals. the northern clubs made of lower class paid players started to gain momentum over the amateur \\'gentleman southerners\\'. the first northern club to reach the fa cup final was blackburn rovers in 1882, where they lost to old etonians, who were the last amateur team to win the trophy. during the summer of 1885, there was pressure put on the football association to accept professionalism in english football, culminating in a special meeting on 20 july, after which it was announced that it was \"in the interests of association football, to legalise the employment of professional football players, but only under certain restrictions\". clubs were allowed to pay players provided that they had either been born or had lived for two years within a six-mile radius of the ground. there were also rules preventing professional players from playing for more than one club in a season, without obtaining special permission, and all professional players had to be registered with the f.a. though english clubs employed professionals, the scottish football association continued to forbid the practice. consequently, many scottish players migrated southward. at first the fa put residential restrictions in place to prevent this, but these were abandoned by 1889. in the inaugural season of the football league (1888–89), champions preston north end fielded ten scottish professionals. one of the teams to benefit from the move of scottish players to england, who were nicknamed the scotch professors, was sunderland a.f.c. the club went professional in 1885, and the club recruited a number of scotsmen the same year, their first internationally capped players. founder james allan left sunderland in 1888 because of his dislike for the \"professionalism\" that had been creeping into the club, and subsequently formed sunderland albion. the wealthy miner samuel tyzack, who alongside and shipbuilder robert turnbull funded the now professional \"team of all talents,\" often pretended to be a priest while scouting for players in scotland, as sunderland\\'s recruitment policy in scotland enraged many scottish fans. in fact, the whole sunderland lineup in the 1895 world championship was made from entirely scottish players. on 5 april 1890, the football league\\'s founder, william mcgregor, labelled sunderland as \"the team of all talents\" stating that they had \"a talented man in every position\". another team to benefit from the scotch professors was preston north end, the first english team to win the championship and cup \"double\", which did so with a majority of their team being made up of scottish players. the scottish fa lifted its ban on professionalism in 1893, whereupon 560 players were registered as professionals. early english women\\'s teams, such as the dick, kerr\\'s ladies from preston, were so popular that their matches raised money for charities. the first recorded women\\'s football match, on 23 march 1895, was held in england between a northern and southern team. the fundraising matches continued, in spite of objections. a maximum wage was placed on players, players challenged this and came close to strike action in 1909, but it was not to be for another fifty years before the maximum wage was abolished. in 1921, women were banned from playing on fa league grounds. fa history states that this ban \"effectively destroyed the game\" in england for the next 40 years. in 1934, the swedish club malmö ff was relegated from the top division after it had been discovered that they paid their players, something that was not allowed in swedish football at the time. between 1915 and 1919 competitive association football was suspended in england. many footballers signed up to fight in the war and as a result many teams were depleted, and fielded guest players instead. the football league and fa cup were suspended and in their place regional league competitions were set up; appearances in these tournaments do not count in players\\' official records. the oldest club in continental europe could be the swiss club lausanne football and cricket club, founded 1860. football was introduced in a belgian school in melle (near ghent) in 1863. in the netherlands the first football match was played in 1865 in enschede. this was followed by the founding of koninklijke hfc by pim mulier in 1879. the koninklijke hfc was the first dutch football club. ten years later, in 1889, the royal dutch football association (the knvb) was founded. association football was introduced in the danish club, kjøbenhavns boldklub (kb) by english residents, in swiss club fc st. gallen in 1879 and in belgium royal antwerp fc in 1880. this makes kb, st. gallen, koninklijke hfc and royal antwerp fc the oldest still existing football clubs on continental europe. however, royal antwerp fc (nickname \"the great old\") is the only one that never merged with or into another club. the danish football association was founded in 1889. italian football was played in regional groups from its foundation in 1898 until 1929 when the serie a was organised into a national league by the italian football federation. la liga, spain\\'s national league, had its first season in 1928, with its participants based on the previous winners of the copa del rey, which began in 1902. the modern german national league, the bundesliga was late in the foundation, especially for european countries, given it wasn\\'t founded until 1963. the german football association was founded as early as 1900 with the first german football champions being leipzig in 1903. however, prior to the formation of the bundesliga, german football was played at an amateur level in a large number of regional leagues. the first recorded football game in imperial russia occurred in odessa when some british sailors played a game amongst themselves. the first organised game of football in portugal took place in 1875 in camacha, madeira. organised by the madeira born harry hinton. the oldest surviving team in portugal is académica, which was founded in 1876. on 31 march 1914, the 3 regional associations that existed in portugal (lisbon, portalegre and porto), merged to create a national association called \"a união portuguesa de futebol\" which is the ancestor of the current national association \"federação portuguesa de futebol\" which was formed on 28 may 1926. the first recorded football match in argentina was played in 1867 by british railway workers at the buenos aires cricket club ground. the game was a blend of both association and rugby footballs, allowing the use of hands. the first association football team in south america, buenos aires football club was created in argentina that same year. the first country\\'s league was the \"association of argentine football\" (aaf), founded in 1891 by f.l. wooley. this league organized the first ever championship to take place in 1891, making argentina\\'s the oldest association football league outside mainland great britain although it only lasted for one season. its successor, the argentine football association was founded by scottish schoolteacher alexander watson hutton in 1893, and remaining nowadays. in the 1870s an expatriate named john miller who worked on the railway construction project in são paulo together with some 3000 other immigrant families from the british isles in the last decades of the 19th century, decided to send his young boy charles william miller to england for his education. in 1884 charles aged 10 was sent to bannister\\'s school in southampton. charles was a natural footballer who quickly picked up the arts of the game. the football association was being formed at the time. eton, rugby, charterhouse and other colleges all had developed their own rules to the game. as an accomplished winger and striker, charles held school honours that were to gain him entry first into the southampton club team and then into the county team of hampshire. in 1892 a couple of years before his return to brazil, miller was invited to play a game for the corinthians, a team formed of players invited from public schools and universities. on his return, miller brought some association football equipment and a rules book with him. he then went on to develop the new rules of the game amongst the community in são paulo. in 1888, six years before his return, the first sports club was founded in the city, são paulo athletic club. são paulo athletic club won the first three years of championships. miller\\'s skills were far and above his colleagues at this stage. he was given the honour of contributing his name to a move involving a deft flick of the ball with the heel \"chaleira\". charles miller kept a strong bond with english association football throughout his life. teams from southampton and corinthians club came over to brazil and played against são paulo athletic club and other teams in são paulo. one on occasion in 1910 a new local team was about to be formed after a tour of the corinthians team to brazil and charles was asked to suggest a name for the team. he suggested they should call themselves after corinthians. during the first years of the 20th century, several british clubs toured on south america, mainly argentina, uruguay and brazil. southampton was the first foreign club to tour the continent in 1904, followed by nottingham forest one year later. those tours contributed to the spread and development of football in the region, with some matches (such as the alumni v south africa) being attended by more than 10,000 spectators. those british teams trips lasted until 1929, with the chelsea tour. the argentine primera división is the oldest league in south america, being first held in 1891. moreover, argentina became the first country outside the united kingdom to establish a football league. the uruguayan football association was also established in 1900. both associations organised together the first rioplatense club competitions in the region, starting with the tie cup in 1900. in 1988, são paulo a.c. celebrated its centenary and the english corinthian f.c. (that had first toured on brazil in 1910) went across again to play them at morumbi stadium. the end of the tour was against the local corinthians paulista team (which had taken its name from the english side) with former stars sócrates and rivelino amongst its players. this game was played at pacaembu stadium in são paulo and true to corinthian principles of good clean association football the score was 1 to 0 in favour of the locals when as agreed socrates changed shirts to play alongside the english amate. this did not affect the score unfortunately although a largely packed stadium was cheering on for a drawn result. the brazilian football confederation was founded in 1914, and the current format for the campeonato brasileiro was established in 1971. the first association football club in the united states was the oneida football club of boston, massachusetts, founded in 1862. it is often said that this was the first club to play association football outside britain. however, oneidas were formed before the english football association (fa); it is not known what rules they used and the club wound up within the space of a few years. according to encyclopædia britannica, the club is often credited with inventing the \"boston game\", which both allowed players to kick a round ball along the ground, and to pick it up and run with it. the first u.s. match known to have been inspired by fa rules was a game between princeton and rutgers in 1869, although the game included features such as extremely physical tackling and teams of 20 each. other colleges emulated this development, but all of these were converted to rugby-oriented rules from soccer-oriented rules by the mid-1870s on, and they would soon become famous as early bastions of american football. (for more details see: history of american football and 1869 college football season.) early football leagues in the u.s. mostly used the name football leagues: for example, the american football association (founded in 1884), the american amateur football association (1893), the american league of professional football (1894), the national association foot ball league (1895), and the southern new england football league (1914). however, the word \"soccer\" was beginning to catch on, and the st. louis soccer league was a significant regional competition between 1907 and 1939. what is now the united states soccer federation was originally the u.s. football association, formed in 1913 by the merger of the american football association and the american amateur football association. the governing body of the sport in the u.s. did not have the word soccer in its name until 1945, when it became the u.s. soccer football association. it did not drop the word football from its name until 1974, when it became the u.s. soccer federation. two further football leagues were started in 1967, the united soccer association and the national professional soccer league. these merged to form the north american soccer league in 1968, which survived until 1984. the nasl also ran an indoor league in the later years. indoor soccer was a great success in the 1980s to the \\'90s, in part due to the input of the north american soccer league. when the nasl folded, other leagues, including the major indoor soccer league filled in to meet the demand. a new misl exists today with seven teams operating in the 2013–2014 season. however, it is unrelated to the original misl. the highest level of association football in the united states is major league soccer, formed as a result of the u.s. hosting the 1994 fifa world cup. the need for a single body to oversee the worldwide game became apparent at the beginning of the 20th century with the increasing popularity of international fixtures. the english football association had chaired many discussions on setting up an international body but was perceived as making no progress. it fell to seven other european countries to band together to form this association. fifa (fédération internationale de football association) was founded in paris on 21 may 1904 – the french name and acronym persist to this day, even outside french-speaking countries. its first president was robert guérin. fifa presided over its first international competition in 1906, however, it met with little approval or success. this, in combination with economic factors, led to the swift replacement of guérin with daniel burley woolfall from england, which had become a member association by that point. the next tournament staged the football competition for the 1908 olympics in london was more successful, despite the presence of professional footballers, contrary to the founding principles of fifa. membership of fifa expanded beyond europe with the application of south africa in 1909, argentina in 1912 and the united states in 1913. fifa however floundered during world war i with many players sent off to war and the possibility of travel for international fixtures severely limited. post-war, following the death of woolfall, the organisation fell into the hands of alexander bartholomew.[citation needed] the organisation had a new leader though after bartholomew\\'s death in 1919. it was saved from extinction but at the cost of the withdrawal of the home nations, who cited an unwillingness to participate in international competitions with their recent world war enemies. in 1946 the four british nations returned. on 10 may 1947 a \\'match of the century\\' between great britain and \\'rest of europe xi\\' was played at hampden park in glasgow before 135,000 spectators – britain won 6–1. the proceeds from the match, coming to £35,000, were given to fifa, to help re-launch it after world war two. this was followed by fifa\\'s first post-war world cup in 1950, held in brazil. fifa, meanwhile, continued to expand so that by the time of its fiftieth anniversary it had 84 members. the first men\\'s football world cup was played in uruguay in 1930. in the first championship match between argentina and uruguay, the teams could not decide on a ball so they used argentina\\'s ball in the first half and uruguay\\'s in the second. many countries did not enter, but most of those that did came from the americas. by 1950 however, european teams took an interest, and the competition blossomed into the world\\'s biggest footballing and sporting event. the south american copa américa was first contested in 1916 and preceded the world cup. decades later, other continental championships emerged – the afc asian cup (1956), the african cup of nations (1957), the european championship (1960), north america\\'s gold cup (1991) oceania\\'s ofc nations cup (1996) and uefa nations league (2018). brazil is the most successful team in the world cup, having won five times. the next most successful teams are italy and germany (three as west germany) with four titles each, having won their latest honours in 2006 and 2014 respectively, followed by argentina with three titles (last in 2022). uruguay (last in 1950) and france (last in 2018) have two titles each. the fifa women\\'s world cup was inaugurated with the 1991 fifa women\\'s world cup, hosted in china, with 12 teams sent to represent their countries. over 90,185 spectators attended the 1999 fifa women\\'s world cup and nearly 1 billion viewers from 70 countries tuned in. by the 2003 fifa women\\'s world cup, 16 teams competed in the championship finals. of the eight tournaments held to date (as of 2019), the united states (1991, 1999, 2015, 2019) is the most successful team with four titles; germany (2003, 2007) have won the championship twice, and norway (1995) and japan (2011) have each won once. women\\'s confederations are the same as men\\'s: oceania (ofc), european (uefa), north, central america and caribbean (concacaf), south american (conmebol), asian (afc) and african (caf). '"
      ]
     },
     "execution_count": 6,
     "metadata": {},
     "output_type": "execute_result"
    }
   ],
   "source": [
    "# Demos un vistazo\n",
    "text"
   ]
  },
  {
   "cell_type": "code",
   "execution_count": 7,
   "metadata": {
    "id": "PA5F0s4UsMpf"
   },
   "outputs": [
    {
     "name": "stdout",
     "output_type": "stream",
     "text": [
      "Cantidad de caracteres en el texto: 34724\n"
     ]
    }
   ],
   "source": [
    "print(\"Cantidad de caracteres en el texto:\", len(text))"
   ]
  },
  {
   "cell_type": "markdown",
   "metadata": {
    "id": "DKNcDGcisajf"
   },
   "source": [
    "### 3 - Dividir el texto en sentencias y en palabras"
   ]
  },
  {
   "cell_type": "code",
   "execution_count": 8,
   "metadata": {
    "id": "reXBOFQ7sdlB"
   },
   "outputs": [],
   "source": [
    "corpus = nltk.sent_tokenize(text) # divide en oraciones\n",
    "words = nltk.word_tokenize(text) # divide en términos"
   ]
  },
  {
   "cell_type": "code",
   "execution_count": 9,
   "metadata": {
    "id": "J5GloV9fsi6o"
   },
   "outputs": [
    {
     "data": {
      "text/plain": [
       "[' the history of association football, more commonly known as football or soccer, stretches back at least to the medieval times.',\n",
       " 'some predecessors of football may date back to ancient greece and rome, and similar games were played in ancient china and japan.',\n",
       " 'the history of football in britain dates at least to the eighth century ce.',\n",
       " 'the development of association football has its origins in medieval ball games and english public school games.',\n",
       " 'the modern game of association football originated in the mid-nineteenth century by the efforts of english football clubs to standardize the varying sets of football rules, culminating in the formation of the football association (the fa) in london, england, in 1863, and their issuing of the laws of the game in the same year.',\n",
       " 'the \"laws of the game\" were later trusted to the international football association board (ifab) and then adopted by the international association football federation (fifa).',\n",
       " 'this set of rules drafted by the fa allowed clubs to play each other without dispute, and banned a number of contentious practices, notably both hacking and handling of the ball (except by goalkeepers) during open play.',\n",
       " 'after the fifth meeting of the association, a schism emerged between association football and the football played by the rules of the rugby school, which later became rugby football.',\n",
       " 'besides its dedicated competitions, football has also been an olympic sport since the second modern summer olympic games in paris, france, in 1900. during the early-mid nineteenth century, different sets of rules for football began to be drawn up in schools, universities, and clubs.',\n",
       " 'the first such set of rules to be published was that of rugby school in 1845. according to n. l. jackson, in the university of cambridge in 1846 \"two old shrewsbury boys, messrs h. de winton and j. c. thring, persuaded some old etonians to join them and formed a club.']"
      ]
     },
     "execution_count": 9,
     "metadata": {},
     "output_type": "execute_result"
    }
   ],
   "source": [
    "# Demos un vistazo\n",
    "corpus[:10]"
   ]
  },
  {
   "cell_type": "code",
   "execution_count": 10,
   "metadata": {
    "id": "hmQ7nkvvsi0i"
   },
   "outputs": [
    {
     "data": {
      "text/plain": [
       "['the',\n",
       " 'history',\n",
       " 'of',\n",
       " 'association',\n",
       " 'football',\n",
       " ',',\n",
       " 'more',\n",
       " 'commonly',\n",
       " 'known',\n",
       " 'as',\n",
       " 'football',\n",
       " 'or',\n",
       " 'soccer',\n",
       " ',',\n",
       " 'stretches',\n",
       " 'back',\n",
       " 'at',\n",
       " 'least',\n",
       " 'to',\n",
       " 'the']"
      ]
     },
     "execution_count": 10,
     "metadata": {},
     "output_type": "execute_result"
    }
   ],
   "source": [
    "# Demos un vistazo\n",
    "words[:20]"
   ]
  },
  {
   "cell_type": "code",
   "execution_count": 11,
   "metadata": {
    "id": "YXPWNkKfEvDZ"
   },
   "outputs": [
    {
     "name": "stdout",
     "output_type": "stream",
     "text": [
      "Vocabulario: 6553\n"
     ]
    }
   ],
   "source": [
    "print(\"Vocabulario:\", len(words))"
   ]
  },
  {
   "cell_type": "markdown",
   "metadata": {
    "id": "NlYKyb3OtDse"
   },
   "source": [
    "### 4 - Funciones de ayuda para limpiar y procesar el input del usuario\n",
    "- Lematizar los tokens de la oración\n",
    "- Quitar símbolos de puntuación"
   ]
  },
  {
   "cell_type": "code",
   "execution_count": 12,
   "metadata": {
    "id": "afPok8pstPOx"
   },
   "outputs": [],
   "source": [
    "lemmatizer = WordNetLemmatizer()\n",
    "\n",
    "def perform_lemmatization(tokens):\n",
    "    return [lemmatizer.lemmatize(token) for token in tokens]\n",
    "\n",
    "# ord() nos da el código Unicode para un caracter dado\n",
    "punctuation_removal = dict((ord(punctuation), None) for punctuation in string.punctuation)\n",
    "\n",
    "def get_processed_text(document):\n",
    "    # 1 - reduce el texto a mínuscula (string.lower())\n",
    "    # 2 - quitar los simbolos de puntuacion (string.translate())\n",
    "    # 3 - realiza la tokenización (nltk.word_tokenize)\n",
    "    # 4 - realiza la lematización (nuestra función perform_lemmatization)\n",
    "    return perform_lemmatization(nltk.word_tokenize(document.lower().translate(punctuation_removal)))"
   ]
  },
  {
   "cell_type": "markdown",
   "metadata": {
    "id": "Jl8r6d9ZuyR9"
   },
   "source": [
    "### 5 - Utilizar vectores TF-IDF y la similitud coseno construido con el corpus del artículo de wikipedia"
   ]
  },
  {
   "cell_type": "code",
   "execution_count": 13,
   "metadata": {
    "id": "IRYFHcBfk2Gt"
   },
   "outputs": [],
   "source": [
    "\n",
    "def generate_response(user_input, corpus):\n",
    "    response = ''\n",
    "    # Sumar al corpus la pregunta del usuario para calcular\n",
    "    # su cercania con otros documentos/sentencias\n",
    "    # la entrada del usuario se usa para tokenizar y vectorizar\n",
    "    corpus.append(user_input)\n",
    "\n",
    "    # Crear un vectorizar TFIDF que quite las \"stop words\" del ingles y utilice\n",
    "    # nuestra funcion para obtener los tokens lematizados \"get_processed_text\"\n",
    "    word_vectorizer = TfidfVectorizer(tokenizer=get_processed_text, stop_words='english')\n",
    "\n",
    "    # Crear los vectores a partir del corpus\n",
    "    all_word_vectors = word_vectorizer.fit_transform(corpus)\n",
    "\n",
    "    # Calcular la similitud coseno entre todas los documentos excepto el agregado (el útlimo \"-1\")\n",
    "    # NOTA: con los word embedings veremos más en detalle esta matriz de similitud\n",
    "    similar_vector_values = cosine_similarity(all_word_vectors[-1], all_word_vectors)\n",
    "\n",
    "    # Obtener el índice del vector más cercano a nuestra oración\n",
    "    # --> descartando la similitud contra nuestor vector propio\n",
    "    similar_sentence_number = similar_vector_values.argsort()[0][-2]\n",
    "    matched_vector = similar_vector_values.flatten()\n",
    "    matched_vector.sort()\n",
    "    vector_matched = matched_vector[-2]\n",
    "\n",
    "    if vector_matched == 0: # si la similaridad coseno fue nula (ningún término en común)\n",
    "        response = \"I am sorry, I could not understand you\"\n",
    "    else:\n",
    "        response = corpus[similar_sentence_number] # obtener el documento del corpus más similar\n",
    "    \n",
    "    corpus.remove(user_input)\n",
    "    return response"
   ]
  },
  {
   "cell_type": "markdown",
   "metadata": {
    "id": "OK-BuXPBybSp"
   },
   "source": [
    "### 6 - Ensayar el sistema\n",
    "El sistema intentará encontrar la parte del artículo que más se relaciona con nuestro texto de entrada. Sugerencias a ensayar:\n",
    "- Grand slam\n",
    "- tournaments\n",
    "- nadal\n",
    "- artificial intelligence"
   ]
  },
  {
   "cell_type": "code",
   "execution_count": 14,
   "metadata": {
    "id": "Z2X4j8XyydSb"
   },
   "outputs": [
    {
     "name": "stderr",
     "output_type": "stream",
     "text": [
      "\n",
      "[notice] A new release of pip is available: 23.1.2 -> 23.2.1\n",
      "[notice] To update, run: python.exe -m pip install --upgrade pip\n"
     ]
    }
   ],
   "source": [
    "# Se utilizará gradio para ensayar el bot\n",
    "# Herramienta poderosa para crear interfaces rápidas para ensayar modelos\n",
    "# https://gradio.app/\n",
    "\n",
    "!{sys.executable} -m pip install gradio --quiet"
   ]
  },
  {
   "cell_type": "code",
   "execution_count": 15,
   "metadata": {
    "id": "SZv5MiVzynG1"
   },
   "outputs": [
    {
     "name": "stderr",
     "output_type": "stream",
     "text": [
      "C:\\Users\\santi\\AppData\\Local\\Temp\\ipykernel_14152\\917083294.py:7: GradioDeprecationWarning: `layout` parameter is deprecated, and it has no effect\n",
      "  iface = gr.Interface(\n"
     ]
    },
    {
     "name": "stdout",
     "output_type": "stream",
     "text": [
      "Running on local URL:  http://127.0.0.1:7860\n",
      "\n",
      "To create a public link, set `share=True` in `launch()`.\n"
     ]
    },
    {
     "data": {
      "text/html": [
       "<div><iframe src=\"http://127.0.0.1:7860/\" width=\"100%\" height=\"500\" allow=\"autoplay; camera; microphone; clipboard-read; clipboard-write;\" frameborder=\"0\" allowfullscreen></iframe></div>"
      ],
      "text/plain": [
       "<IPython.core.display.HTML object>"
      ]
     },
     "metadata": {},
     "output_type": "display_data"
    },
    {
     "name": "stdout",
     "output_type": "stream",
     "text": [
      "Q: origen del futbol?\n"
     ]
    },
    {
     "name": "stderr",
     "output_type": "stream",
     "text": [
      "c:\\Users\\santi\\AppData\\Local\\Programs\\Python\\Python311\\Lib\\site-packages\\sklearn\\feature_extraction\\text.py:525: UserWarning: The parameter 'token_pattern' will not be used since 'tokenizer' is not None'\n",
      "  warnings.warn(\n",
      "c:\\Users\\santi\\AppData\\Local\\Programs\\Python\\Python311\\Lib\\site-packages\\sklearn\\feature_extraction\\text.py:408: UserWarning: Your stop_words may be inconsistent with your preprocessing. Tokenizing the stop words generated tokens ['ha', 'le', 'u', 'wa'] not in stop_words.\n",
      "  warnings.warn(\n"
     ]
    },
    {
     "name": "stdout",
     "output_type": "stream",
     "text": [
      "A: la liga, spain's national league, had its first season in 1928, with its participants based on the previous winners of the copa del rey, which began in 1902. the modern german national league, the bundesliga was late in the foundation, especially for european countries, given it wasn't founded until 1963. the german football association was founded as early as 1900 with the first german football champions being leipzig in 1903. however, prior to the formation of the bundesliga, german football was played at an amateur level in a large number of regional leagues.\n",
      "Q: ball history\n",
      "A: (for more details see: history of american football and 1869 college football season.)\n",
      "Q: best player\n",
      "A: there were also rules preventing professional players from playing for more than one club in a season, without obtaining special permission, and all professional players had to be registered with the f.a.\n",
      "Q: offside?\n",
      "A: other schools (in particular eton college, shrewsbury school and harrow) favoured a dribbling game with a tight off-side rule.\n",
      "Q: hands?\n",
      "A: the game was a blend of both association and rugby footballs, allowing the use of hands.\n",
      "Keyboard interruption in main thread... closing server.\n"
     ]
    },
    {
     "data": {
      "text/plain": []
     },
     "execution_count": 15,
     "metadata": {},
     "output_type": "execute_result"
    }
   ],
   "source": [
    "def bot_response(human_text):\n",
    "    print(\"Q:\", human_text)    \n",
    "    resp = generate_response(human_text.lower(), corpus)\n",
    "    print(\"A:\", resp)\n",
    "    return resp\n",
    "\n",
    "iface = gr.Interface(\n",
    "    fn=bot_response,\n",
    "    inputs=[\"textbox\"],\n",
    "    outputs=\"text\",\n",
    "    layout=\"vertical\")\n",
    "\n",
    "iface.launch(debug=True)"
   ]
  },
  {
   "cell_type": "markdown",
   "metadata": {},
   "source": [
    "### Alumno"
   ]
  },
  {
   "cell_type": "markdown",
   "metadata": {},
   "source": [
    "- Tomar un ejemplo de los bots utilizados (uno de los dos) y construir el propio.\n",
    "- Sacar conclusiones de los resultados.\n",
    "\n",
    "__IMPORTANTE__: Recuerde para la entrega del ejercicio debe quedar registrado en el colab las preguntas y las respuestas del BOT para que podamos evaluar el desempeño final."
   ]
  }
 ],
 "metadata": {
  "colab": {
   "collapsed_sections": [],
   "name": "2c - bot_tfidf_nltk.ipynb",
   "provenance": []
  },
  "kernelspec": {
   "display_name": "Python 3 (ipykernel)",
   "language": "python",
   "name": "python3"
  },
  "language_info": {
   "codemirror_mode": {
    "name": "ipython",
    "version": 3
   },
   "file_extension": ".py",
   "mimetype": "text/x-python",
   "name": "python",
   "nbconvert_exporter": "python",
   "pygments_lexer": "ipython3",
   "version": "3.11.4"
  }
 },
 "nbformat": 4,
 "nbformat_minor": 4
}
